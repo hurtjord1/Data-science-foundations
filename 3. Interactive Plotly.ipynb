{
 "cells": [
  {
   "cell_type": "markdown",
   "metadata": {},
   "source": [
    "# Assignment #3 - Interactive Plotly"
   ]
  },
  {
   "cell_type": "markdown",
   "metadata": {},
   "source": [
    "#### Import libraries"
   ]
  },
  {
   "cell_type": "code",
   "execution_count": 1,
   "metadata": {},
   "outputs": [],
   "source": [
    "import pandas as pd\n",
    "import numpy as np\n",
    "from plotly import graph_objs as go\n",
    "from ipywidgets import IntSlider, interact"
   ]
  },
  {
   "cell_type": "markdown",
   "metadata": {},
   "source": [
    "#### Datasets required for the purpose of the assignment"
   ]
  },
  {
   "cell_type": "code",
   "execution_count": 2,
   "metadata": {},
   "outputs": [],
   "source": [
    "fertility = pd.read_csv('/Users/jordi.hs/Desktop/BTS/Content/DSF/bts-mbds-data-science-foundations/sessions/data/gapminder/fertility.csv', index_col='Country')"
   ]
  },
  {
   "cell_type": "code",
   "execution_count": 3,
   "metadata": {},
   "outputs": [],
   "source": [
    "population = pd.read_csv('/Users/jordi.hs/Desktop/BTS/Content/DSF/bts-mbds-data-science-foundations/sessions/data/gapminder/population.csv', index_col='Country')"
   ]
  },
  {
   "cell_type": "code",
   "execution_count": 4,
   "metadata": {},
   "outputs": [],
   "source": [
    "life_exp = pd.read_csv('/Users/jordi.hs/Desktop/BTS/Content/DSF/bts-mbds-data-science-foundations/sessions/data/gapminder/life_expectancy.csv', index_col='Country')"
   ]
  },
  {
   "cell_type": "code",
   "execution_count": 5,
   "metadata": {},
   "outputs": [],
   "source": [
    "regions = pd.read_csv('/Users/jordi.hs/Desktop/BTS/Content/DSF/bts-mbds-data-science-foundations/sessions/data/gapminder/regions.csv', index_col='Country')"
   ]
  },
  {
   "cell_type": "markdown",
   "metadata": {},
   "source": [
    "fertility = pd.read_csv(\"data/gapminder/fertility.csv\", index_col=\"Country\")\n",
    "population = pd.read_csv(\"data/gapminder/population.csv\", index_col=\"Country\")\n",
    "life_exp = pd.read_csv(\"data/gapminder/life_expectancy.csv\", index_col=\"Country\")\n",
    "regions = pd.read_csv(\"data/gaapminder/regions.csv\", index_col=\"Country\")"
   ]
  },
  {
   "cell_type": "markdown",
   "metadata": {},
   "source": [
    "#### Dataframe with key indicators (Fertility, Population, Life Expectancy and Regions) indexed by Year"
   ]
  },
  {
   "cell_type": "code",
   "execution_count": 6,
   "metadata": {},
   "outputs": [],
   "source": [
    "def by_year(year):\n",
    "    return pd.DataFrame({\n",
    "        'Population': population[str(year)],\n",
    "        'Fertility': fertility[str(year)],\n",
    "        'Life expectancy': life_exp[str(year)],\n",
    "        'Group': regions['Group'],\n",
    "    })"
   ]
  },
  {
   "cell_type": "code",
   "execution_count": 7,
   "metadata": {},
   "outputs": [
    {
     "data": {
      "text/html": [
       "<div>\n",
       "<style scoped>\n",
       "    .dataframe tbody tr th:only-of-type {\n",
       "        vertical-align: middle;\n",
       "    }\n",
       "\n",
       "    .dataframe tbody tr th {\n",
       "        vertical-align: top;\n",
       "    }\n",
       "\n",
       "    .dataframe thead th {\n",
       "        text-align: right;\n",
       "    }\n",
       "</style>\n",
       "<table border=\"1\" class=\"dataframe\">\n",
       "  <thead>\n",
       "    <tr style=\"text-align: right;\">\n",
       "      <th></th>\n",
       "      <th>Population</th>\n",
       "      <th>Fertility</th>\n",
       "      <th>Life expectancy</th>\n",
       "      <th>Group</th>\n",
       "    </tr>\n",
       "  </thead>\n",
       "  <tbody>\n",
       "    <tr>\n",
       "      <th>Afghanistan</th>\n",
       "      <td>18553819.0</td>\n",
       "      <td>7.796</td>\n",
       "      <td>51.738</td>\n",
       "      <td>South Asia</td>\n",
       "    </tr>\n",
       "    <tr>\n",
       "      <th>Albania</th>\n",
       "      <td>3179442.0</td>\n",
       "      <td>2.772</td>\n",
       "      <td>71.920</td>\n",
       "      <td>Europe &amp; Central Asia</td>\n",
       "    </tr>\n",
       "    <tr>\n",
       "      <th>Algeria</th>\n",
       "      <td>27751086.0</td>\n",
       "      <td>3.705</td>\n",
       "      <td>67.674</td>\n",
       "      <td>Middle East &amp; North Africa</td>\n",
       "    </tr>\n",
       "    <tr>\n",
       "      <th>American Samoa</th>\n",
       "      <td>51885.0</td>\n",
       "      <td>NaN</td>\n",
       "      <td>NaN</td>\n",
       "      <td>East Asia &amp; Pacific</td>\n",
       "    </tr>\n",
       "    <tr>\n",
       "      <th>Andorra</th>\n",
       "      <td>63111.0</td>\n",
       "      <td>NaN</td>\n",
       "      <td>NaN</td>\n",
       "      <td>Europe &amp; Central Asia</td>\n",
       "    </tr>\n",
       "  </tbody>\n",
       "</table>\n",
       "</div>"
      ],
      "text/plain": [
       "                Population  Fertility  Life expectancy  \\\n",
       "Afghanistan     18553819.0      7.796           51.738   \n",
       "Albania          3179442.0      2.772           71.920   \n",
       "Algeria         27751086.0      3.705           67.674   \n",
       "American Samoa     51885.0        NaN              NaN   \n",
       "Andorra            63111.0        NaN              NaN   \n",
       "\n",
       "                                     Group  \n",
       "Afghanistan                     South Asia  \n",
       "Albania              Europe & Central Asia  \n",
       "Algeria         Middle East & North Africa  \n",
       "American Samoa         East Asia & Pacific  \n",
       "Andorra              Europe & Central Asia  "
      ]
     },
     "execution_count": 7,
     "metadata": {},
     "output_type": "execute_result"
    }
   ],
   "source": [
    "df = by_year(1994)\n",
    "df.head()"
   ]
  },
  {
   "cell_type": "markdown",
   "metadata": {},
   "source": [
    "#### Scatter plot of Life expectancy vs Fertility, using the Population as bubble size and colored  by Group"
   ]
  },
  {
   "cell_type": "code",
   "execution_count": 8,
   "metadata": {},
   "outputs": [],
   "source": [
    "fig = go.FigureWidget()\n",
    "for group_name, sub_df in df.groupby(\"Group\"):\n",
    "    sc = fig.add_scatter(\n",
    "        x=sub_df['Fertility'],\n",
    "        y=sub_df['Life expectancy'],\n",
    "        mode='markers',\n",
    "        marker={\n",
    "            'size': np.sqrt(sub_df['Population'].fillna(0))/ 400\n",
    "        },\n",
    "        name=group_name,\n",
    "    )"
   ]
  },
  {
   "cell_type": "markdown",
   "metadata": {},
   "source": [
    "### 1. Decorate the figure with proper X and Y axis labels, a title, a big text showing the year, and a legend (if not present). Note: If the legend does not show the colors, upgrade plotly to the latest version"
   ]
  },
  {
   "cell_type": "code",
   "execution_count": 9,
   "metadata": {},
   "outputs": [
    {
     "data": {
      "text/plain": [
       "'3.6.1'"
      ]
     },
     "execution_count": 9,
     "metadata": {},
     "output_type": "execute_result"
    }
   ],
   "source": [
    "import plotly\n",
    "plotly.__version__ # Version check"
   ]
  },
  {
   "cell_type": "code",
   "execution_count": 10,
   "metadata": {},
   "outputs": [],
   "source": [
    "year = 1994\n",
    "fig.layout = dict(\n",
    "    title='Life expectancy v. Fertility',\n",
    "    xaxis=dict(title='Fertility rate'),\n",
    "    yaxis=dict(title='Life Expectancy (years)'),\n",
    "    annotations=[dict( # To create the top-right box of the plot that shows the depicted year in big text.\n",
    "            x=7.5,\n",
    "            y=80,\n",
    "            showarrow=True,\n",
    "            text=str(year),\n",
    "            font=dict(\n",
    "                family='Courier New, monospace',\n",
    "                size=26,\n",
    "            ),\n",
    "            align='center',\n",
    "            arrowhead=2,\n",
    "            arrowsize=1,\n",
    "            arrowwidth=2,\n",
    "            arrowcolor='#636363',\n",
    "            ax=20,\n",
    "            ay=-30,\n",
    "            bordercolor='#c7c7c7',\n",
    "            borderwidth=2,\n",
    "            borderpad=1,\n",
    "            bgcolor='#ff7f0e',\n",
    "            opacity=0.8\n",
    "        )])"
   ]
  },
  {
   "cell_type": "code",
   "execution_count": 11,
   "metadata": {},
   "outputs": [
    {
     "data": {
      "application/vnd.jupyter.widget-view+json": {
       "model_id": "13657a3af94843598cf6eef5cb029f70",
       "version_major": 2,
       "version_minor": 0
      },
      "text/plain": [
       "FigureWidget({\n",
       "    'data': [{'marker': {'size': array([ 0.24429746,  0.64660169, 14.66721514,  0.6926489 ,  1.…"
      ]
     },
     "metadata": {},
     "output_type": "display_data"
    }
   ],
   "source": [
    "fig"
   ]
  },
  {
   "cell_type": "markdown",
   "metadata": {},
   "source": [
    "### 2.Create a function update_year that receives a year as an integer and updates the data of the existing figure with the values from the selected year. Note: The update might not be very efficient"
   ]
  },
  {
   "cell_type": "code",
   "execution_count": 12,
   "metadata": {
    "scrolled": true
   },
   "outputs": [],
   "source": [
    "fig1 = go.FigureWidget()\n",
    "def update_year(year):\n",
    "    if year > life_exp.columns.astype(int).max()\\\n",
    "    or year < life_exp.columns.astype(int).min(): # Initial check to see whether the given year falls within the range.\n",
    "        print('Invalid year')\n",
    "    else:\n",
    "        update = by_year(year) # To consider the dataframe indexed by year\n",
    "        fig1.data = [] # To set the data properly and avoid possible overlaps\n",
    "        for group_name, sub_update in update.groupby(\"Group\"):\n",
    "            sc = fig1.add_scatter(\n",
    "                x=sub_update['Fertility'],\n",
    "                y=sub_update['Life expectancy'],\n",
    "                mode='markers',\n",
    "                marker={\n",
    "                    'size': np.sqrt(sub_update['Population'].fillna(0))/ 400\n",
    "                },\n",
    "                name=group_name\n",
    "            )\n",
    "            fig1.layout = dict(\n",
    "                title='Life expectancy v. Fertility',\n",
    "                xaxis=dict(title='Fertility rate'),\n",
    "                yaxis=dict(title='Life Expectancy (years)')\n",
    "            )"
   ]
  },
  {
   "cell_type": "markdown",
   "metadata": {},
   "source": [
    "### 3. Create an horizontal slider that ranges from the minimum to the maximum year"
   ]
  },
  {
   "cell_type": "code",
   "execution_count": 13,
   "metadata": {
    "scrolled": true
   },
   "outputs": [],
   "source": [
    "slider = IntSlider(\n",
    "    value=year,\n",
    "    min=life_exp.columns.astype(int).min(),\n",
    "    max=life_exp.columns.astype(int).max(),\n",
    "    step=1,\n",
    "    description='Year:',\n",
    "    disabled=False,\n",
    "    continuous_update=False,\n",
    "    orientation='horizontal',\n",
    "    readout=True,\n",
    "    readout_format='d'\n",
    ")"
   ]
  },
  {
   "cell_type": "markdown",
   "metadata": {},
   "source": [
    "### 4. Bind the update_year function to changes in the horizontal slider and use it to interactively change the plot"
   ]
  },
  {
   "cell_type": "code",
   "execution_count": 14,
   "metadata": {},
   "outputs": [
    {
     "data": {
      "application/vnd.jupyter.widget-view+json": {
       "model_id": "cddaf3be190e4fcbacad4ec70e4dd071",
       "version_major": 2,
       "version_minor": 0
      },
      "text/plain": [
       "interactive(children=(IntSlider(value=1994, continuous_update=False, description='Year:', max=2013, min=1964),…"
      ]
     },
     "metadata": {},
     "output_type": "display_data"
    },
    {
     "data": {
      "application/vnd.jupyter.widget-view+json": {
       "model_id": "34ffb560653643a6a801f9dd8dbbf711",
       "version_major": 2,
       "version_minor": 0
      },
      "text/plain": [
       "FigureWidget({\n",
       "    'data': [{'marker': {'size': array([ 0.24429746,  0.64660169, 14.66721514,  0.6926489 ,  1.…"
      ]
     },
     "metadata": {},
     "output_type": "display_data"
    }
   ],
   "source": [
    "interact(update_year, year=slider)\n",
    "fig1"
   ]
  }
 ],
 "metadata": {
  "kernelspec": {
   "display_name": "Python 3",
   "language": "python",
   "name": "python3"
  },
  "language_info": {
   "codemirror_mode": {
    "name": "ipython",
    "version": 3
   },
   "file_extension": ".py",
   "mimetype": "text/x-python",
   "name": "python",
   "nbconvert_exporter": "python",
   "pygments_lexer": "ipython3",
   "version": "3.7.1"
  }
 },
 "nbformat": 4,
 "nbformat_minor": 2
}
