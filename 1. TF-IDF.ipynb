{
 "cells": [
  {
   "cell_type": "markdown",
   "metadata": {},
   "source": [
    "ASSIGNMENT 1 - TF-IDF"
   ]
  },
  {
   "cell_type": "code",
   "execution_count": 1,
   "metadata": {},
   "outputs": [],
   "source": [
    "t0 = \"China has a strong economy that is growing at a rapid pace. However politically it differs greatly from the US Economy.\"\n",
    "t1 = \"At last, China seems serious about confronting an endemic problem: domestic violence and corruption.\"\n",
    "t2 = \"Japan's prime minister, Shinzo Abe, is working  towards healing the economic turmoil in his own country for his view on the future of his people.\"\n",
    "t3 = \"Vladimir Putin is working hard to fix the economy in Russia as the Ruble has tumbled.\"\n",
    "t4 = \"What's the future of Abenomics? We asked Shinzo Abe for his views\"\n",
    "t5 = \"Obama has eased sanctions on Cuba while accelerating those against the Russian Economy, even as the Ruble's value falls almost daily.\"\n",
    "t6 = \"Vladimir Putin was found to be riding a horse, again, without a shirt on while hunting deer. Vladimir Putin always seems so serious about things - even riding horses.\""
   ]
  },
  {
   "cell_type": "code",
   "execution_count": 2,
   "metadata": {},
   "outputs": [],
   "source": [
    "from spacy.lang.en.stop_words import STOP_WORDS\n",
    "import spacy\n",
    "import sys\n",
    "import en_core_web_sm\n",
    "nlp = en_core_web_sm.load()\n",
    "nlp\n",
    "import pandas as pd\n",
    "import matplotlib.pyplot as plt\n",
    "import seaborn as sns"
   ]
  },
  {
   "cell_type": "code",
   "execution_count": 3,
   "metadata": {},
   "outputs": [],
   "source": [
    "def lemmatize(Doc):\n",
    "    return [\n",
    "        token.lemma_ for token in Doc\n",
    "        if not token.is_punct and not token.is_space\n",
    "        and not token.lower_ in STOP_WORDS\n",
    "        and (not token.tag_ == \"POS\" or token.text == \"'s\") and not token.text == \"US\"\n",
    "    ]"
   ]
  },
  {
   "cell_type": "raw",
   "metadata": {},
   "source": [
    "1. Write a function tf that receives a string and a spaCy Doc and returns the number of times the word appears in the lemmatized Doc"
   ]
  },
  {
   "cell_type": "code",
   "execution_count": 4,
   "metadata": {},
   "outputs": [
    {
     "name": "stdout",
     "output_type": "stream",
     "text": [
      "Enter a word: Economy\n"
     ]
    }
   ],
   "source": [
    "x = input('Enter a word: ') \n",
    "\n",
    "def tf(x, Doc):   \n",
    "    l = lemmatize(Doc)\n",
    "    return l.count(' '.join((lemmatize(nlp(x)))))\n"
   ]
  },
  {
   "cell_type": "code",
   "execution_count": 5,
   "metadata": {},
   "outputs": [
    {
     "data": {
      "text/plain": [
       "2"
      ]
     },
     "execution_count": 5,
     "metadata": {},
     "output_type": "execute_result"
    }
   ],
   "source": [
    "tf(x, nlp(t0))"
   ]
  },
  {
   "cell_type": "raw",
   "metadata": {},
   "source": [
    "Arguments: x as string input and Doc as spaCy Doc\n",
    "return: lemmas count for string 'Economy'\n",
    "The Term Frequency of the Lemma of word 'Economy' appears twice in document t6"
   ]
  },
  {
   "cell_type": "raw",
   "metadata": {},
   "source": [
    "2. Write a function idf that receives a string and a list of spaCy Docs and returns the inverse of the number of docs that contain the word"
   ]
  },
  {
   "cell_type": "code",
   "execution_count": 6,
   "metadata": {},
   "outputs": [
    {
     "name": "stdout",
     "output_type": "stream",
     "text": [
      "Enter a word: Economy\n"
     ]
    }
   ],
   "source": [
    "x = input('Enter a word: ')\n",
    "Docs = [nlp(x) for x in [t0, t1, t2, t3, t4, t5, t6]] #List of Docs\n",
    "\n",
    "def idf(x, Docs):\n",
    "    doc_number = 0   \n",
    "    for elem in Docs:\n",
    "        l = lemmatize(elem)\n",
    "        if l.count(' '.join(lemmatize(nlp(x)))) > 0:\n",
    "            doc_number += 1\n",
    "    if doc_number>0:\n",
    "        return 1/doc_number\n",
    "    else:\n",
    "        return 0\n",
    "    #return 1 / doc_number if doc_number else 0"
   ]
  },
  {
   "cell_type": "code",
   "execution_count": 7,
   "metadata": {},
   "outputs": [
    {
     "data": {
      "text/plain": [
       "0.3333333333333333"
      ]
     },
     "execution_count": 7,
     "metadata": {},
     "output_type": "execute_result"
    }
   ],
   "source": [
    "idf(x, Docs)"
   ]
  },
  {
   "cell_type": "raw",
   "metadata": {},
   "source": [
    "Arguments: x as string input and Docs as list of spaCy Docs\n",
    "return: Inverse of Doc count for string 'Economy'\n",
    "The Inverse Document Frequency of the lemma of word 'Economy' is 0.33 as it appears in 3 documents"
   ]
  },
  {
   "cell_type": "raw",
   "metadata": {},
   "source": [
    "3. Write a function tf_idf that receives a string, a spaCy Doc and a list of spaCy Docs and returns the product of tf(t, d) · idf(t, D)."
   ]
  },
  {
   "cell_type": "code",
   "execution_count": 8,
   "metadata": {},
   "outputs": [],
   "source": [
    "def tf_idf(x, Doc, Docs):\n",
    "    t_f = tf(x, Doc)\n",
    "    i_d_f = idf(x, Docs)\n",
    "    return t_f * i_d_f"
   ]
  },
  {
   "cell_type": "code",
   "execution_count": 9,
   "metadata": {},
   "outputs": [
    {
     "data": {
      "text/plain": [
       "0.6666666666666666"
      ]
     },
     "execution_count": 9,
     "metadata": {},
     "output_type": "execute_result"
    }
   ],
   "source": [
    "tf_idf(x, nlp(t0), Docs)"
   ]
  },
  {
   "cell_type": "raw",
   "metadata": {},
   "source": [
    "Arguments: x as string, Doc as spaCy Doc, Docs as list of spaCy Docs\n",
    "return: product of TF and IDF\n",
    "The TF-IDF of the word 'Economy' is 0.66."
   ]
  },
  {
   "cell_type": "raw",
   "metadata": {},
   "source": [
    "4. Write a function all_lemmas that receives a list of Docs and returns a set of all available lemmas"
   ]
  },
  {
   "cell_type": "code",
   "execution_count": 10,
   "metadata": {},
   "outputs": [],
   "source": [
    "def all_lemmas(Docs):\n",
    "    all = set()\n",
    "    for Doc in Docs:\n",
    "        all |= set(lemmatize(Doc))\n",
    "        #all.update(set(lemmatize(docs)))\n",
    "        #all = lemmas.union(set(lemmatize(doc)))\n",
    "    return all\n"
   ]
  },
  {
   "cell_type": "code",
   "execution_count": 11,
   "metadata": {},
   "outputs": [
    {
     "data": {
      "text/plain": [
       "{\"'s\",\n",
       " 'abe',\n",
       " 'abenomics',\n",
       " 'accelerate',\n",
       " 'ask',\n",
       " 'be',\n",
       " 'china',\n",
       " 'confront',\n",
       " 'corruption',\n",
       " 'country',\n",
       " 'cuba',\n",
       " 'daily',\n",
       " 'deer',\n",
       " 'differ',\n",
       " 'domestic',\n",
       " 'ease',\n",
       " 'economic',\n",
       " 'economy',\n",
       " 'endemic',\n",
       " 'fall',\n",
       " 'find',\n",
       " 'fix',\n",
       " 'future',\n",
       " 'greatly',\n",
       " 'grow',\n",
       " 'hard',\n",
       " 'heal',\n",
       " 'horse',\n",
       " 'hunt',\n",
       " 'japan',\n",
       " 'minister',\n",
       " 'obama',\n",
       " 'pace',\n",
       " 'people',\n",
       " 'politically',\n",
       " 'prime',\n",
       " 'problem',\n",
       " 'putin',\n",
       " 'rapid',\n",
       " 'rid',\n",
       " 'ruble',\n",
       " 'russia',\n",
       " 'russian',\n",
       " 'sanction',\n",
       " 'shinzo',\n",
       " 'shirt',\n",
       " 'strong',\n",
       " 'thing',\n",
       " 'tumble',\n",
       " 'turmoil',\n",
       " 'value',\n",
       " 'view',\n",
       " 'violence',\n",
       " 'vladimir',\n",
       " 'work'}"
      ]
     },
     "execution_count": 11,
     "metadata": {},
     "output_type": "execute_result"
    }
   ],
   "source": [
    "all_lemmas(Docs)"
   ]
  },
  {
   "cell_type": "raw",
   "metadata": {},
   "source": [
    "Argument: list of spaCy Docs\n",
    "By using the extended version of the bitwise operator OR, it returns a set of all different lemmas in each and every document"
   ]
  },
  {
   "cell_type": "raw",
   "metadata": {},
   "source": [
    "5. Write a function tf_idf_doc that receives a Doc and a list of Docs and returns a dictionary of {lemma: TF-IDF value}, corresponding to each the lemmas of all the available documents"
   ]
  },
  {
   "cell_type": "code",
   "execution_count": 12,
   "metadata": {},
   "outputs": [],
   "source": [
    "def tf_idf_doc(Doc, Docs):\n",
    "    lemmas = all_lemmas(Docs)\n",
    "    lemma_freq = {x : tf_idf(x, Doc, Docs) for x in lemmas}\n",
    "    return lemma_freq"
   ]
  },
  {
   "cell_type": "code",
   "execution_count": 13,
   "metadata": {},
   "outputs": [
    {
     "data": {
      "text/plain": [
       "{'ease': 1.0,\n",
       " 'cuba': 1.0,\n",
       " 'differ': 0.0,\n",
       " 'ask': 0.0,\n",
       " 'vladimir': 0.0,\n",
       " 'hunt': 0.0,\n",
       " 'turmoil': 0.0,\n",
       " 'hard': 0.0,\n",
       " 'view': 0.0,\n",
       " 'strong': 0.0,\n",
       " 'prime': 0.0,\n",
       " 'sanction': 1.0,\n",
       " \"'s\": 0.0,\n",
       " 'china': 0.0,\n",
       " 'pace': 0.0,\n",
       " 'endemic': 0.0,\n",
       " 'value': 1.0,\n",
       " 'deer': 0.0,\n",
       " 'obama': 1.0,\n",
       " 'economy': 0.3333333333333333,\n",
       " 'problem': 0.0,\n",
       " 'japan': 0.0,\n",
       " 'country': 0.0,\n",
       " 'greatly': 0.0,\n",
       " 'confront': 0.0,\n",
       " 'rapid': 0.0,\n",
       " 'daily': 1.0,\n",
       " 'abe': 0.0,\n",
       " 'rid': 0.0,\n",
       " 'politically': 0.0,\n",
       " 'corruption': 0.0,\n",
       " 'accelerate': 1.0,\n",
       " 'economic': 0.0,\n",
       " 'future': 0.0,\n",
       " 'shirt': 0.0,\n",
       " 'fall': 1.0,\n",
       " 'russia': 0.0,\n",
       " 'tumble': 0.0,\n",
       " 'violence': 0.0,\n",
       " 'ruble': 0.5,\n",
       " 'find': 0.0,\n",
       " 'abenomics': 0,\n",
       " 'horse': 0.0,\n",
       " 'people': 0.0,\n",
       " 'minister': 0.0,\n",
       " 'be': 0,\n",
       " 'putin': 0.0,\n",
       " 'fix': 0.0,\n",
       " 'shinzo': 0.0,\n",
       " 'thing': 0.0,\n",
       " 'heal': 0.0,\n",
       " 'work': 0.0,\n",
       " 'russian': 1.0,\n",
       " 'grow': 0.0,\n",
       " 'domestic': 0.0}"
      ]
     },
     "execution_count": 13,
     "metadata": {},
     "output_type": "execute_result"
    }
   ],
   "source": [
    "tf_idf_doc(nlp(t5), Docs)"
   ]
  },
  {
   "cell_type": "raw",
   "metadata": {},
   "source": [
    "Arguments: Doc as spaCy Doc and Docs as list of spaCy Docs\n",
    "return: TF-IDF results for all available lemmas in a dictionary format"
   ]
  },
  {
   "cell_type": "raw",
   "metadata": {},
   "source": [
    "6. Write a function tf_idf_scores that receives a list of Docs and returns a DataFrame displaying the lemmas in the columns and the documents in the rows."
   ]
  },
  {
   "cell_type": "code",
   "execution_count": 14,
   "metadata": {},
   "outputs": [],
   "source": [
    "def tf_idf_scores(Docs):\n",
    "    data = pd.DataFrame(tf_idf_doc(Doc, Docs) for Doc in Docs)\n",
    "    return data"
   ]
  },
  {
   "cell_type": "code",
   "execution_count": 15,
   "metadata": {},
   "outputs": [
    {
     "data": {
      "text/html": [
       "<div>\n",
       "<style scoped>\n",
       "    .dataframe tbody tr th:only-of-type {\n",
       "        vertical-align: middle;\n",
       "    }\n",
       "\n",
       "    .dataframe tbody tr th {\n",
       "        vertical-align: top;\n",
       "    }\n",
       "\n",
       "    .dataframe thead th {\n",
       "        text-align: right;\n",
       "    }\n",
       "</style>\n",
       "<table border=\"1\" class=\"dataframe\">\n",
       "  <thead>\n",
       "    <tr style=\"text-align: right;\">\n",
       "      <th></th>\n",
       "      <th>'s</th>\n",
       "      <th>abe</th>\n",
       "      <th>abenomics</th>\n",
       "      <th>accelerate</th>\n",
       "      <th>ask</th>\n",
       "      <th>be</th>\n",
       "      <th>china</th>\n",
       "      <th>confront</th>\n",
       "      <th>corruption</th>\n",
       "      <th>country</th>\n",
       "      <th>...</th>\n",
       "      <th>shirt</th>\n",
       "      <th>strong</th>\n",
       "      <th>thing</th>\n",
       "      <th>tumble</th>\n",
       "      <th>turmoil</th>\n",
       "      <th>value</th>\n",
       "      <th>view</th>\n",
       "      <th>violence</th>\n",
       "      <th>vladimir</th>\n",
       "      <th>work</th>\n",
       "    </tr>\n",
       "  </thead>\n",
       "  <tbody>\n",
       "    <tr>\n",
       "      <th>0</th>\n",
       "      <td>0.0</td>\n",
       "      <td>0.0</td>\n",
       "      <td>0</td>\n",
       "      <td>0.0</td>\n",
       "      <td>0.0</td>\n",
       "      <td>0</td>\n",
       "      <td>0.5</td>\n",
       "      <td>0.0</td>\n",
       "      <td>0.0</td>\n",
       "      <td>0.0</td>\n",
       "      <td>...</td>\n",
       "      <td>0.0</td>\n",
       "      <td>1.0</td>\n",
       "      <td>0.0</td>\n",
       "      <td>0.0</td>\n",
       "      <td>0.0</td>\n",
       "      <td>0.0</td>\n",
       "      <td>0.0</td>\n",
       "      <td>0.0</td>\n",
       "      <td>0.0</td>\n",
       "      <td>0.0</td>\n",
       "    </tr>\n",
       "    <tr>\n",
       "      <th>1</th>\n",
       "      <td>0.0</td>\n",
       "      <td>0.0</td>\n",
       "      <td>0</td>\n",
       "      <td>0.0</td>\n",
       "      <td>0.0</td>\n",
       "      <td>0</td>\n",
       "      <td>0.5</td>\n",
       "      <td>1.0</td>\n",
       "      <td>1.0</td>\n",
       "      <td>0.0</td>\n",
       "      <td>...</td>\n",
       "      <td>0.0</td>\n",
       "      <td>0.0</td>\n",
       "      <td>0.0</td>\n",
       "      <td>0.0</td>\n",
       "      <td>0.0</td>\n",
       "      <td>0.0</td>\n",
       "      <td>0.0</td>\n",
       "      <td>1.0</td>\n",
       "      <td>0.0</td>\n",
       "      <td>0.0</td>\n",
       "    </tr>\n",
       "    <tr>\n",
       "      <th>2</th>\n",
       "      <td>0.0</td>\n",
       "      <td>0.5</td>\n",
       "      <td>0</td>\n",
       "      <td>0.0</td>\n",
       "      <td>0.0</td>\n",
       "      <td>0</td>\n",
       "      <td>0.0</td>\n",
       "      <td>0.0</td>\n",
       "      <td>0.0</td>\n",
       "      <td>1.0</td>\n",
       "      <td>...</td>\n",
       "      <td>0.0</td>\n",
       "      <td>0.0</td>\n",
       "      <td>0.0</td>\n",
       "      <td>0.0</td>\n",
       "      <td>1.0</td>\n",
       "      <td>0.0</td>\n",
       "      <td>0.5</td>\n",
       "      <td>0.0</td>\n",
       "      <td>0.0</td>\n",
       "      <td>0.5</td>\n",
       "    </tr>\n",
       "    <tr>\n",
       "      <th>3</th>\n",
       "      <td>0.0</td>\n",
       "      <td>0.0</td>\n",
       "      <td>0</td>\n",
       "      <td>0.0</td>\n",
       "      <td>0.0</td>\n",
       "      <td>0</td>\n",
       "      <td>0.0</td>\n",
       "      <td>0.0</td>\n",
       "      <td>0.0</td>\n",
       "      <td>0.0</td>\n",
       "      <td>...</td>\n",
       "      <td>0.0</td>\n",
       "      <td>0.0</td>\n",
       "      <td>0.0</td>\n",
       "      <td>1.0</td>\n",
       "      <td>0.0</td>\n",
       "      <td>0.0</td>\n",
       "      <td>0.0</td>\n",
       "      <td>0.0</td>\n",
       "      <td>0.5</td>\n",
       "      <td>0.5</td>\n",
       "    </tr>\n",
       "    <tr>\n",
       "      <th>4</th>\n",
       "      <td>1.0</td>\n",
       "      <td>0.5</td>\n",
       "      <td>0</td>\n",
       "      <td>0.0</td>\n",
       "      <td>1.0</td>\n",
       "      <td>0</td>\n",
       "      <td>0.0</td>\n",
       "      <td>0.0</td>\n",
       "      <td>0.0</td>\n",
       "      <td>0.0</td>\n",
       "      <td>...</td>\n",
       "      <td>0.0</td>\n",
       "      <td>0.0</td>\n",
       "      <td>0.0</td>\n",
       "      <td>0.0</td>\n",
       "      <td>0.0</td>\n",
       "      <td>0.0</td>\n",
       "      <td>0.5</td>\n",
       "      <td>0.0</td>\n",
       "      <td>0.0</td>\n",
       "      <td>0.0</td>\n",
       "    </tr>\n",
       "    <tr>\n",
       "      <th>5</th>\n",
       "      <td>0.0</td>\n",
       "      <td>0.0</td>\n",
       "      <td>0</td>\n",
       "      <td>1.0</td>\n",
       "      <td>0.0</td>\n",
       "      <td>0</td>\n",
       "      <td>0.0</td>\n",
       "      <td>0.0</td>\n",
       "      <td>0.0</td>\n",
       "      <td>0.0</td>\n",
       "      <td>...</td>\n",
       "      <td>0.0</td>\n",
       "      <td>0.0</td>\n",
       "      <td>0.0</td>\n",
       "      <td>0.0</td>\n",
       "      <td>0.0</td>\n",
       "      <td>1.0</td>\n",
       "      <td>0.0</td>\n",
       "      <td>0.0</td>\n",
       "      <td>0.0</td>\n",
       "      <td>0.0</td>\n",
       "    </tr>\n",
       "    <tr>\n",
       "      <th>6</th>\n",
       "      <td>0.0</td>\n",
       "      <td>0.0</td>\n",
       "      <td>0</td>\n",
       "      <td>0.0</td>\n",
       "      <td>0.0</td>\n",
       "      <td>0</td>\n",
       "      <td>0.0</td>\n",
       "      <td>0.0</td>\n",
       "      <td>0.0</td>\n",
       "      <td>0.0</td>\n",
       "      <td>...</td>\n",
       "      <td>1.0</td>\n",
       "      <td>0.0</td>\n",
       "      <td>1.0</td>\n",
       "      <td>0.0</td>\n",
       "      <td>0.0</td>\n",
       "      <td>0.0</td>\n",
       "      <td>0.0</td>\n",
       "      <td>0.0</td>\n",
       "      <td>1.0</td>\n",
       "      <td>0.0</td>\n",
       "    </tr>\n",
       "  </tbody>\n",
       "</table>\n",
       "<p>7 rows × 55 columns</p>\n",
       "</div>"
      ],
      "text/plain": [
       "    's  abe  abenomics  accelerate  ask  be  china  confront  corruption  \\\n",
       "0  0.0  0.0          0         0.0  0.0   0    0.5       0.0         0.0   \n",
       "1  0.0  0.0          0         0.0  0.0   0    0.5       1.0         1.0   \n",
       "2  0.0  0.5          0         0.0  0.0   0    0.0       0.0         0.0   \n",
       "3  0.0  0.0          0         0.0  0.0   0    0.0       0.0         0.0   \n",
       "4  1.0  0.5          0         0.0  1.0   0    0.0       0.0         0.0   \n",
       "5  0.0  0.0          0         1.0  0.0   0    0.0       0.0         0.0   \n",
       "6  0.0  0.0          0         0.0  0.0   0    0.0       0.0         0.0   \n",
       "\n",
       "   country  ...   shirt  strong  thing  tumble  turmoil  value  view  \\\n",
       "0      0.0  ...     0.0     1.0    0.0     0.0      0.0    0.0   0.0   \n",
       "1      0.0  ...     0.0     0.0    0.0     0.0      0.0    0.0   0.0   \n",
       "2      1.0  ...     0.0     0.0    0.0     0.0      1.0    0.0   0.5   \n",
       "3      0.0  ...     0.0     0.0    0.0     1.0      0.0    0.0   0.0   \n",
       "4      0.0  ...     0.0     0.0    0.0     0.0      0.0    0.0   0.5   \n",
       "5      0.0  ...     0.0     0.0    0.0     0.0      0.0    1.0   0.0   \n",
       "6      0.0  ...     1.0     0.0    1.0     0.0      0.0    0.0   0.0   \n",
       "\n",
       "   violence  vladimir  work  \n",
       "0       0.0       0.0   0.0  \n",
       "1       1.0       0.0   0.0  \n",
       "2       0.0       0.0   0.5  \n",
       "3       0.0       0.5   0.5  \n",
       "4       0.0       0.0   0.0  \n",
       "5       0.0       0.0   0.0  \n",
       "6       0.0       1.0   0.0  \n",
       "\n",
       "[7 rows x 55 columns]"
      ]
     },
     "execution_count": 15,
     "metadata": {},
     "output_type": "execute_result"
    }
   ],
   "source": [
    "data = tf_idf_scores(Docs)\n",
    "data"
   ]
  },
  {
   "cell_type": "raw",
   "metadata": {},
   "source": [
    "Arguments: List of Spacy Docs\n",
    "return: Dataframe that outputs the TF-IDF scores for all the different Lemmas and Documents"
   ]
  },
  {
   "cell_type": "raw",
   "metadata": {},
   "source": [
    "7. Visualize the TF-IDF in a heatmap."
   ]
  },
  {
   "cell_type": "code",
   "execution_count": 16,
   "metadata": {},
   "outputs": [
    {
     "data": {
      "text/plain": [
       "<matplotlib.axes._subplots.AxesSubplot at 0x1bfd039acc0>"
      ]
     },
     "execution_count": 16,
     "metadata": {},
     "output_type": "execute_result"
    },
    {
     "data": {
      "image/png": "[encoded data removed]",
      "text/plain": [
       "<Figure size 1296x288 with 2 Axes>"
      ]
     },
     "metadata": {},
     "output_type": "display_data"
    }
   ],
   "source": [
    "#fig, ax = plt.subplots(figsize=(15,3)) and add ax in sns.heatmap(data_n,ax)\n",
    "plt.figure(figsize=(18,4))\n",
    "data_n = (data - data.min().min())/(data.max().max() - data.min().min()) #Normalize the data\n",
    "sns.heatmap(data_n)"
   ]
  },
  {
   "cell_type": "raw",
   "metadata": {},
   "source": [
    "TF-IDF heatmap using matplotlib and seaborn libraries. Data normalization obtained through min-max scaling (values ranging from 0 to 1)."
   ]
  }
 ],
 "metadata": {
  "kernelspec": {
   "display_name": "Python 3",
   "language": "python",
   "name": "python3"
  },
  "language_info": {
   "codemirror_mode": {
    "name": "ipython",
    "version": 3
   },
   "file_extension": ".py",
   "mimetype": "text/x-python",
   "name": "python",
   "nbconvert_exporter": "python",
   "pygments_lexer": "ipython3",
   "version": "3.7.1"
  }
 },
 "nbformat": 4,
 "nbformat_minor": 2
}
